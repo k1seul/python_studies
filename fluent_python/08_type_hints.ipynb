{
 "cells": [
  {
   "cell_type": "code",
   "execution_count": 1,
   "metadata": {},
   "outputs": [],
   "source": [
    "def show_count(count : int , word : str) -> str:\n",
    "    if count == 1:\n",
    "        return f\"1 {word}\"\n",
    "    count_str = str(count) if count else 'no'\n",
    "    # return 1 \n",
    "    return f\"{count_str} {word}s\"\n",
    "    "
   ]
  },
  {
   "cell_type": "code",
   "execution_count": 2,
   "metadata": {},
   "outputs": [],
   "source": [
    "from pytest import mark \n"
   ]
  },
  {
   "cell_type": "code",
   "execution_count": 3,
   "metadata": {},
   "outputs": [],
   "source": [
    "@mark.parametrize('qty, expected',\n",
    "                  (1, '1 part'),\n",
    "                   (2, '2 parts'))\n",
    "def test_show_count(qty, expected):\n",
    "    got = show_count(qty, 'part')\n",
    "    print(got)\n",
    "    assert got == expected \n",
    "\n",
    "def test_show_zero():\n",
    "    got = show_count(0, 'part')\n",
    "    assert got == 'no parts'"
   ]
  },
  {
   "cell_type": "code",
   "execution_count": 4,
   "metadata": {},
   "outputs": [],
   "source": [
    "def show_count(count: int, singular: str, plural: str = '') -> str:\n",
    "    if count == 1:\n",
    "        return f'1 {singular}' \n",
    "    count_str = str(count) if count else 'no'\n",
    "    if not plural:\n",
    "        plural = singular + 's'\n",
    "    \n",
    "    return f'{count_str} {plural}'"
   ]
  },
  {
   "cell_type": "code",
   "execution_count": 5,
   "metadata": {},
   "outputs": [],
   "source": [
    "def test_irregular() -> None:\n",
    "    got = show_count(2, 'child', 'children')\n",
    "    assert got == '2 children'"
   ]
  },
  {
   "cell_type": "code",
   "execution_count": 6,
   "metadata": {},
   "outputs": [],
   "source": [
    "from typing import Optional\n",
    "\n",
    "\n",
    "def show_count(count: int, singular: str, plural: Optional[str] = None) -> str:\n",
    "    if count == 1:\n",
    "        return f'1 {singular}' \n",
    "    count_str = str(count) if count else 'no'\n",
    "    if not plural:\n",
    "        plural = singular + 's'\n",
    "    \n",
    "    return f'{count_str} {plural}'"
   ]
  },
  {
   "cell_type": "code",
   "execution_count": 7,
   "metadata": {},
   "outputs": [
    {
     "data": {
      "text/plain": [
       "'2 childs'"
      ]
     },
     "execution_count": 7,
     "metadata": {},
     "output_type": "execute_result"
    }
   ],
   "source": [
    "show_count(2, 'child')"
   ]
  },
  {
   "cell_type": "code",
   "execution_count": 8,
   "metadata": {},
   "outputs": [],
   "source": [
    "def double(x):\n",
    "    return 2 * x "
   ]
  },
  {
   "cell_type": "code",
   "execution_count": 9,
   "metadata": {},
   "outputs": [],
   "source": [
    "from collections import abc\n",
    "\n",
    "def double(x: abc.Sequence):\n",
    "    return 2 * x"
   ]
  },
  {
   "cell_type": "code",
   "execution_count": 10,
   "metadata": {},
   "outputs": [],
   "source": [
    "class Bird:\n",
    "    pass \n",
    "\n",
    "class Duck(Bird):\n",
    "    def quack(self):\n",
    "        print('Quack!')\n",
    "    \n",
    "def alert(birdie):\n",
    "    birdie.quack() \n",
    "\n",
    "def alert_duck(birdie: Duck) -> None:\n",
    "    birdie.quack() \n",
    "\n",
    "def alert_bird(birdie: Bird) -> None:\n",
    "    birdie.quack()\n"
   ]
  },
  {
   "cell_type": "code",
   "execution_count": 11,
   "metadata": {},
   "outputs": [],
   "source": [
    "from typing import Union\n",
    "\n",
    "def parse_token(token: str) -> Union[str, float]:\n",
    "    try:\n",
    "        return float(token)\n",
    "    except ValueError:\n",
    "        return token "
   ]
  },
  {
   "cell_type": "code",
   "execution_count": 13,
   "metadata": {},
   "outputs": [],
   "source": [
    "from geolib import geohash as gh \n",
    "def geohash(lat_lon: tuple[float, float]) -> str:\n",
    "    return gh.encode(*lat_lon, 9)"
   ]
  },
  {
   "cell_type": "code",
   "execution_count": 14,
   "metadata": {},
   "outputs": [],
   "source": [
    "from typing import NamedTuple\n",
    "class Coordinate(NamedTuple):\n",
    "    lat: float\n",
    "    lon: float \n",
    "\n",
    "def geohash(lat_lon: Coordinate) -> str:\n",
    "    return gh.encode(*lat_lon, 9)"
   ]
  },
  {
   "cell_type": "code",
   "execution_count": 15,
   "metadata": {},
   "outputs": [],
   "source": [
    "def display(lat_lon: tuple[float, float]) -> str:\n",
    "    lat, lon = lat_lon\n",
    "    ns = 'N' if lat >= 0 else 'S'\n",
    "    ew = 'E' if lon >= 0 else 'W'\n",
    "    return f'{abs(lat):0.1f}°{ns}, {abs(lon):0.1f}°{ew}'"
   ]
  },
  {
   "cell_type": "code",
   "execution_count": null,
   "metadata": {},
   "outputs": [],
   "source": []
  }
 ],
 "metadata": {
  "kernelspec": {
   "display_name": "scratch",
   "language": "python",
   "name": "python3"
  },
  "language_info": {
   "codemirror_mode": {
    "name": "ipython",
    "version": 3
   },
   "file_extension": ".py",
   "mimetype": "text/x-python",
   "name": "python",
   "nbconvert_exporter": "python",
   "pygments_lexer": "ipython3",
   "version": "undefined.undefined.undefined"
  }
 },
 "nbformat": 4,
 "nbformat_minor": 2
}
