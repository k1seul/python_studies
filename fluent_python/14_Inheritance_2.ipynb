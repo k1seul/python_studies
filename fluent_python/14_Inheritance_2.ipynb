{
 "cells": [
  {
   "cell_type": "code",
   "execution_count": 18,
   "metadata": {},
   "outputs": [],
   "source": [
    "# The super() Function \n",
    "from collections import OrderedDict \n",
    "\n",
    "class LastUpdatedOrderedDict(OrderedDict):\n",
    "    \n",
    "    def __setitem__(self, key, value):\n",
    "        super().__setitem__(key, value)\n",
    "        self.move_to_end(key) \n",
    "\n",
    "## Python 2 method \n",
    "\n",
    "class LastUpdatedOrderedDict(OrderedDict):\n",
    "\n",
    "    def __setitem__(self, key, value) -> None:\n",
    "        super(LastUpdatedOrderedDict, self).__setitem__(key, value)\n",
    "        self.move_to_end(key)"
   ]
  },
  {
   "cell_type": "code",
   "execution_count": 19,
   "metadata": {},
   "outputs": [],
   "source": [
    "luod = LastUpdatedOrderedDict()\n",
    "luod['a'] = 123\n",
    "luod['b'] = 234\n",
    "luod['a'] = 243"
   ]
  },
  {
   "cell_type": "code",
   "execution_count": 20,
   "metadata": {},
   "outputs": [
    {
     "data": {
      "text/plain": [
       "LastUpdatedOrderedDict([('b', 234), ('a', 243)])"
      ]
     },
     "execution_count": 20,
     "metadata": {},
     "output_type": "execute_result"
    }
   ],
   "source": [
    "# different key location than regular ordered dict \n",
    "luod"
   ]
  },
  {
   "cell_type": "code",
   "execution_count": 17,
   "metadata": {},
   "outputs": [],
   "source": [
    "## Don't do direct call method \n",
    "\n",
    "class NotRecommended(OrderedDict):\n",
    "\n",
    "    def __setitem__(self, key, value):\n",
    "        OrderedDict.__setitem__(key, value)\n",
    "        self.move_to_end(key)"
   ]
  },
  {
   "cell_type": "code",
   "execution_count": null,
   "metadata": {},
   "outputs": [],
   "source": [
    "## Problem of __setitem__ overriding is ignored by the __init__ and __update__ \n",
    "\n",
    "class DoppelDict(dict):\n",
    "    def __setitem__(self, key, value):\n",
    "        super().__setitem__(key, [value] * 2)\n",
    "\n",
    "\n",
    "## init is not changed because we only changed the __setitem__ mothod \n",
    "dd = DoppelDict(one = 1)"
   ]
  },
  {
   "cell_type": "code",
   "execution_count": 22,
   "metadata": {},
   "outputs": [
    {
     "data": {
      "text/plain": [
       "{'one': 1}"
      ]
     },
     "execution_count": 22,
     "metadata": {},
     "output_type": "execute_result"
    }
   ],
   "source": [
    "dd"
   ]
  },
  {
   "cell_type": "code",
   "execution_count": 24,
   "metadata": {},
   "outputs": [],
   "source": [
    "dd.update(one=3)"
   ]
  },
  {
   "cell_type": "code",
   "execution_count": 25,
   "metadata": {},
   "outputs": [
    {
     "data": {
      "text/plain": [
       "{'one': 3}"
      ]
     },
     "execution_count": 25,
     "metadata": {},
     "output_type": "execute_result"
    }
   ],
   "source": [
    "dd"
   ]
  },
  {
   "cell_type": "code",
   "execution_count": 26,
   "metadata": {},
   "outputs": [
    {
     "data": {
      "text/plain": [
       "{'a': 42}"
      ]
     },
     "execution_count": 26,
     "metadata": {},
     "output_type": "execute_result"
    }
   ],
   "source": [
    "class AnswerDict(dict):\n",
    "    def __getitem__(self, key):\n",
    "        return 42\n",
    "\n",
    "ad = AnswerDict(a=123)\n",
    "ad"
   ]
  },
  {
   "cell_type": "code",
   "execution_count": 27,
   "metadata": {},
   "outputs": [
    {
     "data": {
      "text/plain": [
       "{'a': 123}"
      ]
     },
     "execution_count": 27,
     "metadata": {},
     "output_type": "execute_result"
    }
   ],
   "source": [
    "d = {}\n",
    "d.update(ad)\n",
    "d"
   ]
  },
  {
   "cell_type": "code",
   "execution_count": 28,
   "metadata": {},
   "outputs": [
    {
     "data": {
      "text/plain": [
       "{'one': [1, 1]}"
      ]
     },
     "execution_count": 28,
     "metadata": {},
     "output_type": "execute_result"
    }
   ],
   "source": [
    "## The solution is to use another class that implement __setitem__ in __init__, __update__ \n",
    "\n",
    "import collections\n",
    "\n",
    "class DoppelDict2(collections.UserDict):\n",
    "    def __setitem__(self, key, value) -> None:\n",
    "        super().__setitem__(key, [value] * 2)\n",
    "\n",
    "dd = DoppelDict2(one = 1)\n",
    "dd"
   ]
  },
  {
   "cell_type": "code",
   "execution_count": 29,
   "metadata": {},
   "outputs": [],
   "source": [
    "dd.update(one=4)"
   ]
  },
  {
   "cell_type": "code",
   "execution_count": 30,
   "metadata": {},
   "outputs": [
    {
     "data": {
      "text/plain": [
       "{'one': [4, 4]}"
      ]
     },
     "execution_count": 30,
     "metadata": {},
     "output_type": "execute_result"
    }
   ],
   "source": [
    "dd"
   ]
  },
  {
   "cell_type": "code",
   "execution_count": null,
   "metadata": {},
   "outputs": [],
   "source": [
    "## Multiple Inheritance Problem \n",
    "\n",
    "class Root:\n",
    "    def ping(self):\n",
    "        print(f\"{self}.ping() in Root\")\n",
    "\n",
    "    def pong(self):\n",
    "        print(f\"{self}.pong() in Root\") \n",
    "    \n",
    "    def __repr__(self):\n",
    "        cls_name = type(self).__name__ \n",
    "        return f'<instance of {cls_name}>'\n",
    "    \n",
    "class A(Root):\n",
    "    def ping(self):\n",
    "        print(f\"{self}.ping() in A\")\n",
    "        super().ping()\n",
    "\n",
    "    def pong(self):\n",
    "        print(f\"{self}.pong() in A\") \n",
    "        super().ping()\n",
    "    \n",
    "class B(Root):\n",
    "    def ping(self):\n",
    "        print(f\"{self}.ping() in B\")\n",
    "        super().ping()\n",
    "\n",
    "    def pong(self):\n",
    "        print(f\"{self}.pong() in B\") \n",
    "        # super().ping()\n",
    "    \n",
    "\n",
    "class Leaf(A,B):\n",
    "    def ping(self):\n",
    "        print(f\"{self}.ping() in Leaf\")\n",
    "        super().ping()"
   ]
  },
  {
   "cell_type": "code",
   "execution_count": 40,
   "metadata": {},
   "outputs": [
    {
     "name": "stdout",
     "output_type": "stream",
     "text": [
      "<instance of Leaf>.ping() in Leaf\n",
      "<instance of Leaf>.ping() in A\n"
     ]
    }
   ],
   "source": [
    "abc = Leaf()\n",
    "abc.ping() "
   ]
  },
  {
   "cell_type": "code",
   "execution_count": 36,
   "metadata": {},
   "outputs": [
    {
     "name": "stdout",
     "output_type": "stream",
     "text": [
      "<instance of Leaf>.pong() in A\n",
      "<instance of Leaf>.ping() in B\n",
      "<instance of Leaf>.ping() in Root\n"
     ]
    }
   ],
   "source": [
    "abc.pong()"
   ]
  },
  {
   "cell_type": "code",
   "execution_count": null,
   "metadata": {},
   "outputs": [],
   "source": []
  }
 ],
 "metadata": {
  "kernelspec": {
   "display_name": "scratch",
   "language": "python",
   "name": "python3"
  },
  "language_info": {
   "codemirror_mode": {
    "name": "ipython",
    "version": 3
   },
   "file_extension": ".py",
   "mimetype": "text/x-python",
   "name": "python",
   "nbconvert_exporter": "python",
   "pygments_lexer": "ipython3",
   "version": "3.11.10"
  }
 },
 "nbformat": 4,
 "nbformat_minor": 2
}
