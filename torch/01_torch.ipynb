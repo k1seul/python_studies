{
 "cells": [
  {
   "cell_type": "code",
   "execution_count": 1,
   "metadata": {},
   "outputs": [],
   "source": [
    "### A lot of GPT was used :) \n",
    "import torch\n",
    "import numpy as np \n",
    "import sys\n",
    "from pympler import asizeof"
   ]
  },
  {
   "cell_type": "code",
   "execution_count": 2,
   "metadata": {},
   "outputs": [],
   "source": [
    "tensor = torch.tensor([1,2,3])\n",
    "array = np.array([1,2,3])"
   ]
  },
  {
   "cell_type": "code",
   "execution_count": 3,
   "metadata": {},
   "outputs": [
    {
     "name": "stdout",
     "output_type": "stream",
     "text": [
      "True\n",
      "False\n"
     ]
    }
   ],
   "source": [
    "# Tensors operation \n",
    "print(torch.is_tensor(tensor))\n",
    "print(torch.is_tensor(array))"
   ]
  },
  {
   "cell_type": "code",
   "execution_count": 4,
   "metadata": {},
   "outputs": [
    {
     "name": "stderr",
     "output_type": "stream",
     "text": [
      "/var/folders/fq/gncz_bp52yq728fprlh8k3l40000gn/T/ipykernel_24944/1446601639.py:2: UserWarning: TypedStorage is deprecated. It will be removed in the future and UntypedStorage will be the only storage class. This should only matter to you if you are using storages directly.  To access UntypedStorage directly, use tensor.untyped_storage() instead of tensor.storage()\n",
      "  storage = torch.FloatStorage(3)\n"
     ]
    },
    {
     "data": {
      "text/plain": [
       " 10.0\n",
       " 0.0\n",
       " 0.0\n",
       "[torch.storage.TypedStorage(dtype=torch.float32, device=cpu) of size 3]"
      ]
     },
     "execution_count": 4,
     "metadata": {},
     "output_type": "execute_result"
    }
   ],
   "source": [
    "# Torch stoarge \n",
    "storage = torch.FloatStorage(3)\n",
    "storage[0] = 10 \n",
    "storage"
   ]
  },
  {
   "cell_type": "code",
   "execution_count": 5,
   "metadata": {},
   "outputs": [
    {
     "name": "stdout",
     "output_type": "stream",
     "text": [
      "True\n",
      "False\n"
     ]
    }
   ],
   "source": [
    "print(torch.is_storage(storage))\n",
    "print(torch.is_storage(tensor))"
   ]
  },
  {
   "cell_type": "code",
   "execution_count": 6,
   "metadata": {},
   "outputs": [
    {
     "name": "stdout",
     "output_type": "stream",
     "text": [
      "Size of tensor is 184 bytes\n",
      "Size of numpy array is 152 bytes\n",
      "Size of torch stoarge is 576 bytes\n"
     ]
    }
   ],
   "source": [
    "print(f\"Size of tensor is {asizeof.asizeof(tensor)} bytes\")\n",
    "print(f\"Size of numpy array is {asizeof.asizeof(array)} bytes\")\n",
    "print(f\"Size of torch stoarge is {asizeof.asizeof(storage)} bytes\")\n"
   ]
  },
  {
   "cell_type": "code",
   "execution_count": 7,
   "metadata": {},
   "outputs": [
    {
     "name": "stdout",
     "output_type": "stream",
     "text": [
      "Tensor: tensor([1.+4.j, 2.+5.j, 3.+6.j])\n",
      "Is complex: True\n"
     ]
    }
   ],
   "source": [
    "# torch also have complex values\n",
    "\n",
    "real_part = torch.tensor([1.0, 2.0, 3.0])\n",
    "imag_part = torch.tensor([4.0, 5.0, 6.0])\n",
    "complex_tensor = torch.complex(real_part, imag_part)\n",
    "\n",
    "# Check if the tensor is complex\n",
    "is_complex = torch.is_complex(complex_tensor)\n",
    "print(\"Tensor:\", complex_tensor)\n",
    "print(\"Is complex:\", is_complex)"
   ]
  },
  {
   "cell_type": "code",
   "execution_count": 8,
   "metadata": {},
   "outputs": [
    {
     "name": "stdout",
     "output_type": "stream",
     "text": [
      "Original Tensor: tensor([1.+4.j, 2.+5.j, 3.+6.j])\n",
      "Conjugated Tensor: tensor([1.-4.j, 2.-5.j, 3.-6.j])\n",
      "Is conjugated tensor complex: True\n"
     ]
    }
   ],
   "source": [
    "# Create a complex-valued tensor\n",
    "real_part = torch.tensor([1.0, 2.0, 3.0])\n",
    "imag_part = torch.tensor([4.0, 5.0, 6.0])\n",
    "complex_tensor = torch.complex(real_part, imag_part)\n",
    "\n",
    "# Conjugate the complex tensor\n",
    "conjugated_tensor = torch.conj(complex_tensor)\n",
    "\n",
    "# Check if the conjugated tensor is complex\n",
    "is_complex = torch.is_complex(conjugated_tensor)\n",
    "\n",
    "print(\"Original Tensor:\", complex_tensor)\n",
    "print(\"Conjugated Tensor:\", conjugated_tensor)\n",
    "print(\"Is conjugated tensor complex:\", is_complex)"
   ]
  },
  {
   "cell_type": "code",
   "execution_count": 9,
   "metadata": {},
   "outputs": [
    {
     "name": "stdout",
     "output_type": "stream",
     "text": [
      "Tensor: tensor([1., 2., 3.])\n",
      "Is floating-point: True\n"
     ]
    }
   ],
   "source": [
    "# Create a floating-point tensor\n",
    "float_tensor = torch.tensor([1.0, 2.0, 3.0])\n",
    "\n",
    "# Check if the tensor is a floating-point tensor\n",
    "is_floating_point = torch.is_floating_point(float_tensor)\n",
    "\n",
    "print(\"Tensor:\", float_tensor)\n",
    "print(\"Is floating-point:\", is_floating_point)"
   ]
  },
  {
   "cell_type": "code",
   "execution_count": 10,
   "metadata": {},
   "outputs": [
    {
     "name": "stdout",
     "output_type": "stream",
     "text": [
      "Tensor: tensor([0])\n",
      "Is non-zero: False\n"
     ]
    }
   ],
   "source": [
    "# Create a tensor\n",
    "tensor = torch.tensor([0])\n",
    "\n",
    "# Check if the tensor is non-zero, must be single element \n",
    "is_nonzero = tensor.is_nonzero()\n",
    "\n",
    "print(\"Tensor:\", tensor)\n",
    "print(\"Is non-zero:\", is_nonzero)"
   ]
  },
  {
   "cell_type": "code",
   "execution_count": 11,
   "metadata": {},
   "outputs": [
    {
     "name": "stdout",
     "output_type": "stream",
     "text": [
      "Default dtype: torch.float32\n",
      "Tensor type after change: torch.float32\n",
      "New default dtype: torch.float64\n",
      "Tensor type after change: torch.float64\n"
     ]
    }
   ],
   "source": [
    "## Change the default tensor creation at once!\n",
    "# Check the current default data type\n",
    "print(f\"Default dtype: {torch.get_default_dtype()}\")\n",
    "tensor = torch.tensor([1.0, 2.0, 3.0])\n",
    "print(f\"Tensor type after change: {tensor.dtype}\")\n",
    "\n",
    "# Set the default data type to float64 (double precision)\n",
    "torch.set_default_dtype(torch.float64)\n",
    "\n",
    "# Check the new default data type\n",
    "print(f\"New default dtype: {torch.get_default_dtype()}\")\n",
    "\n",
    "# Create a tensor to see the effect of the change\n",
    "tensor = torch.tensor([1.0, 2.0, 3.0])\n",
    "print(f\"Tensor type after change: {tensor.dtype}\")"
   ]
  },
  {
   "cell_type": "code",
   "execution_count": 12,
   "metadata": {},
   "outputs": [
    {
     "name": "stdout",
     "output_type": "stream",
     "text": [
      "tensor([[[-0.7619,  0.6812, -0.1475, -1.9871],\n",
      "         [ 0.8222, -0.9775,  0.3801, -1.0066],\n",
      "         [-1.2627,  0.6199,  2.5119,  1.1960]],\n",
      "\n",
      "        [[-0.3847,  1.1081,  2.2749, -2.2328],\n",
      "         [-1.5795, -0.2692, -0.0962,  0.8014],\n",
      "         [-0.4453,  2.0358,  0.7457,  0.2346]]])\n",
      "Tensor shape: torch.Size([2, 3, 4])\n",
      "Total number of elements: 24\n"
     ]
    }
   ],
   "source": [
    "# Create a tensor of shape (2, 3, 4)\n",
    "tensor = torch.randn(2, 3, 4)\n",
    "\n",
    "# Get the total number of elements in the tensor\n",
    "num_elements = torch.numel(tensor)\n",
    "\n",
    "print(tensor)\n",
    "print(f\"Tensor shape: {tensor.shape}\")\n",
    "print(f\"Total number of elements: {num_elements}\")"
   ]
  },
  {
   "cell_type": "code",
   "execution_count": 14,
   "metadata": {},
   "outputs": [
    {
     "name": "stdout",
     "output_type": "stream",
     "text": [
      "tensor([[-1.115, -0.527, -2.227],\n",
      "        [-0.055, -0.466, -1.321],\n",
      "        [ 0.433,  0.246,  0.454]])\n",
      "tensor([[ 0.462,  2.611,  ..., -1.138, -0.335],\n",
      "        [ 0.808,  0.709,  ..., -1.049,  0.296],\n",
      "        ...,\n",
      "        [-0.348,  0.142,  ..., -0.716,  1.263],\n",
      "        [ 0.176, -0.196,  ...,  0.304, -0.766]])\n",
      "tensor([[ 0.890,  0.160, -0.134],\n",
      "        [ 1.088, -1.168, -0.382],\n",
      "        [-0.791, -2.115, -0.768]])\n",
      "tensor([[-0.652,  0.545,  ...,  0.371, -1.396],\n",
      "        [ 0.197, -0.182,  ...,  1.163,  1.364],\n",
      "        ...,\n",
      "        [-1.382, -0.403,  ..., -1.074,  0.656],\n",
      "        [ 1.366,  1.455,  ...,  0.445,  0.155]])\n"
     ]
    }
   ],
   "source": [
    "# Print the tensor to see the effect of the print options\n",
    "print(tensor)\n",
    "\n",
    "# Create a larger tensor to see the effect of threshold\n",
    "large_tensor = torch.randn(10, 10)\n",
    "print(large_tensor)\n",
    "\n",
    "# Set print options for tensors\n",
    "# sci_mode: Controls whether tensors are displayed in scientific notation\n",
    "torch.set_printoptions(precision=3, threshold=6, edgeitems=2, sci_mode=False) # over the threshold print both edge items \n",
    "\n",
    "# Create a tensor\n",
    "tensor = torch.randn(3, 3)\n",
    "\n",
    "# Print the tensor to see the effect of the print options\n",
    "print(tensor)\n",
    "\n",
    "# Create a larger tensor to see the effect of threshold\n",
    "large_tensor = torch.randn(10, 10)\n",
    "print(large_tensor)"
   ]
  },
  {
   "cell_type": "code",
   "execution_count": 18,
   "metadata": {},
   "outputs": [
    {
     "data": {
      "text/plain": [
       "False"
      ]
     },
     "execution_count": 18,
     "metadata": {},
     "output_type": "execute_result"
    }
   ],
   "source": [
    "# Tensors\n",
    "## Creates tensor with no autograd history\n",
    "tensor = torch.tensor([1,2,3])\n",
    "tensor.requires_grad"
   ]
  },
  {
   "cell_type": "code",
   "execution_count": 23,
   "metadata": {},
   "outputs": [
    {
     "name": "stdout",
     "output_type": "stream",
     "text": [
      "Memory size of dense tensor: 184 bytes\n",
      "Memory size of sparse tensor: 184 bytes\n"
     ]
    }
   ],
   "source": [
    "# Define the dense and sparse tensors\n",
    "dense_tensor = torch.tensor([[[1, 0, 0], \n",
    "                              [0, 2, 0]],\n",
    "                             \n",
    "                             [[0, 0, 3], \n",
    "                              [0, 0, 0]]])\n",
    "\n",
    "# Sparse tensor\n",
    "indices = torch.tensor([[0, 0, 1], [0, 1, 0], [0, 1, 2]])\n",
    "values = torch.tensor([1, 2, 3])\n",
    "shape = (2, 2, 3)\n",
    "sparse_tensor = torch.sparse_coo_tensor(indices, values, shape)\n",
    "\n",
    "# Check memory size of both tensors\n",
    "dense_size = asizeof.asizeof(dense_tensor)\n",
    "sparse_size = asizeof.asizeof(sparse_tensor)\n",
    "\n",
    "## ??? Dunno\n",
    "print(f\"Memory size of dense tensor: {dense_size} bytes\")\n",
    "print(f\"Memory size of sparse tensor: {sparse_size} bytes\")\n"
   ]
  },
  {
   "cell_type": "code",
   "execution_count": null,
   "metadata": {},
   "outputs": [
    {
     "name": "stdout",
     "output_type": "stream",
     "text": [
      "CSR Representation:\n",
      "  (0, 2)\t3\n",
      "  (1, 0)\t4\n",
      "  (1, 3)\t5\n",
      "  (3, 0)\t6\n",
      "  (3, 1)\t7\n",
      "CSR in Dense Format:\n",
      "[[0 0 3 0]\n",
      " [4 0 0 5]\n",
      " [0 0 0 0]\n",
      " [6 7 0 0]]\n",
      "\n",
      "CSC Representation:\n",
      "  (1, 0)\t4\n",
      "  (3, 0)\t6\n",
      "  (3, 1)\t7\n",
      "  (0, 2)\t3\n",
      "  (1, 3)\t5\n",
      "CSC in Dense Format:\n",
      "[[0 0 3 0]\n",
      " [4 0 0 5]\n",
      " [0 0 0 0]\n",
      " [6 7 0 0]]\n"
     ]
    }
   ],
   "source": [
    "from scipy.sparse import csr_matrix, csc_matrix\n",
    "\n",
    "# 여튼 sparse tensor를 표현하는 방법이 당양하다\n",
    "# Define the dense matrix\n",
    "dense_matrix = np.array([\n",
    "    [0, 0, 3, 0],\n",
    "    [4, 0, 0, 5],\n",
    "    [0, 0, 0, 0],\n",
    "    [6, 7, 0, 0]\n",
    "])\n",
    "\n",
    "# Convert to CSR format\n",
    "csr = csr_matrix(dense_matrix)\n",
    "\n",
    "# Convert to CSC format\n",
    "csc = csc_matrix(dense_matrix)\n",
    "\n",
    "# Print CSR and CSC representations\n",
    "print(\"CSR Representation:\")\n",
    "print(csr)\n",
    "print(\"CSR in Dense Format:\")\n",
    "print(csr.toarray())  # Convert back to dense\n",
    "\n",
    "print(\"\\nCSC Representation:\")\n",
    "print(csc)\n",
    "print(\"CSC in Dense Format:\")\n",
    "print(csc.toarray())  # Convert back to dense"
   ]
  },
  {
   "cell_type": "code",
   "execution_count": 27,
   "metadata": {},
   "outputs": [
    {
     "name": "stdout",
     "output_type": "stream",
     "text": [
      "BSR Representation:\n",
      "  (0, 2)\t0\n",
      "  (0, 3)\t0\n",
      "  (1, 2)\t2\n",
      "  (1, 3)\t0\n",
      "  (2, 0)\t0\n",
      "  (2, 1)\t2\n",
      "  (3, 0)\t0\n",
      "  (3, 1)\t0\n",
      "BSR in Dense Format:\n",
      "[[0 0 0 0]\n",
      " [0 0 2 0]\n",
      " [0 2 0 0]\n",
      " [0 0 0 0]]\n"
     ]
    }
   ],
   "source": [
    "from scipy.sparse import bsr_matrix\n",
    "# Define the dense matrix\n",
    "dense_matrix = np.array([\n",
    "    [0, 0, 0, 0],\n",
    "    [0, 0, 2, 0],\n",
    "    [0, 2, 0, 0],\n",
    "    [0, 0, 0, 0]\n",
    "])\n",
    "\n",
    "# Convert to BSR format (Block size 2x2)\n",
    "bsr = bsr_matrix(dense_matrix, blocksize=(2, 2))\n",
    "\n",
    "# Print BSR and BSC representations\n",
    "print(\"BSR Representation:\")\n",
    "print(bsr)\n",
    "print(\"BSR in Dense Format:\")\n",
    "print(bsr.toarray())  # Convert back to dense\n"
   ]
  },
  {
   "cell_type": "code",
   "execution_count": 37,
   "metadata": {},
   "outputs": [
    {
     "name": "stdout",
     "output_type": "stream",
     "text": [
      "tensor([1, 2, 3])\n",
      "tensor([1, 2, 3])\n",
      "tensor([1., 2., 3.], requires_grad=True)\n",
      "tensor([1., 2., 3.])\n"
     ]
    }
   ],
   "source": [
    "print(torch.asarray([1,2,3]))\n",
    "print(torch.as_tensor([1,2,3]))\n",
    "print(torch.as_tensor(torch.tensor([1.,2.,3.], requires_grad=True)))\n",
    "## This cannot carray over grads!\n",
    "print(torch.asarray(torch.tensor([1.,2.,3.], requires_grad=True)))"
   ]
  },
  {
   "cell_type": "code",
   "execution_count": 38,
   "metadata": {},
   "outputs": [
    {
     "name": "stdout",
     "output_type": "stream",
     "text": [
      "Original Tensor (4x4):\n",
      "tensor([[ 0,  1,  2,  3],\n",
      "        [ 4,  5,  6,  7],\n",
      "        [ 8,  9, 10, 11],\n",
      "        [12, 13, 14, 15]])\n",
      "\n",
      "Transformed Tensor (2x2):\n",
      "tensor([[ 0,  2],\n",
      "        [ 8, 10]])\n"
     ]
    }
   ],
   "source": [
    "# Create a tensor of shape (4, 4)\n",
    "x = torch.arange(16).reshape(4, 4)\n",
    "\n",
    "# Define the new shape (2, 2) and strides\n",
    "new_shape = (2, 2)\n",
    "strides = (2 * x.stride(0), 2 * x.stride(1))\n",
    "\n",
    "# Create a new tensor using torch.as_strided\n",
    "y = torch.as_strided(x, size=new_shape, stride=strides)\n",
    "\n",
    "# Print the original tensor and the transformed tensor\n",
    "print(\"Original Tensor (4x4):\")\n",
    "print(x)\n",
    "print(\"\\nTransformed Tensor (2x2):\")\n",
    "print(y)"
   ]
  },
  {
   "cell_type": "code",
   "execution_count": 40,
   "metadata": {},
   "outputs": [
    {
     "name": "stdout",
     "output_type": "stream",
     "text": [
      "tensor([[ 0.217,  0.973,  1.538],\n",
      "        [-0.454, -0.998, -0.448],\n",
      "        [-0.777,  0.436, -1.779]])\n"
     ]
    }
   ],
   "source": [
    "# Create a tensor\n",
    "tensor = torch.randn(3, 3)\n",
    "\n",
    "# Save the tensor to a file\n",
    "torch.save(tensor, 'tensor.pt')\n",
    "\n",
    "# Load the tensor from the file\n",
    "loaded_tensor = torch.load('tensor.pt')\n",
    "\n",
    "# Print the loaded tensor\n",
    "print(loaded_tensor)\n",
    "\n",
    "import os \n",
    "os.remove('tensor.pt')\n"
   ]
  },
  {
   "cell_type": "code",
   "execution_count": 41,
   "metadata": {},
   "outputs": [
    {
     "data": {
      "text/plain": [
       "tensor([1, 2, 3])"
      ]
     },
     "execution_count": 41,
     "metadata": {},
     "output_type": "execute_result"
    }
   ],
   "source": [
    "torch.from_numpy(np.array([1,2,3]))"
   ]
  },
  {
   "cell_type": "code",
   "execution_count": 44,
   "metadata": {},
   "outputs": [
    {
     "name": "stdout",
     "output_type": "stream",
     "text": [
      "tensor([1, 2, 3, 4, 5, 6], dtype=torch.uint8)\n"
     ]
    }
   ],
   "source": [
    "# Create a Python object that supports the buffer protocol (e.g., bytearray)\n",
    "buffer_data = bytearray([1, 2, 3, 4, 5, 6])\n",
    "\n",
    "# Create a memoryview object that exposes the buffer protocol\n",
    "buffer_view = memoryview(buffer_data)\n",
    "\n",
    "# Convert the memoryview to a PyTorch tensor\n",
    "tensor = torch.frombuffer(buffer_view, dtype=torch.uint8)\n",
    "\n",
    "# Print the tensor\n",
    "print(tensor)"
   ]
  },
  {
   "cell_type": "code",
   "execution_count": 51,
   "metadata": {},
   "outputs": [
    {
     "name": "stdout",
     "output_type": "stream",
     "text": [
      "tensor([[[0., 0., 0.],\n",
      "         [0., 0., 0.]]])\n"
     ]
    },
    {
     "data": {
      "text/plain": [
       "tensor([0, 0, 0])"
      ]
     },
     "execution_count": 51,
     "metadata": {},
     "output_type": "execute_result"
    }
   ],
   "source": [
    "print(torch.zeros((1,2,3)))\n",
    "torch.zeros_like(torch.tensor([1,2,3]))"
   ]
  },
  {
   "cell_type": "code",
   "execution_count": 53,
   "metadata": {},
   "outputs": [
    {
     "name": "stdout",
     "output_type": "stream",
     "text": [
      "tensor([[[1., 1., 1.],\n",
      "         [1., 1., 1.]]])\n"
     ]
    },
    {
     "data": {
      "text/plain": [
       "tensor([1, 1, 1])"
      ]
     },
     "execution_count": 53,
     "metadata": {},
     "output_type": "execute_result"
    }
   ],
   "source": [
    "print(torch.ones((1,2,3)))\n",
    "torch.ones_like(torch.tensor([1,2,3]))"
   ]
  },
  {
   "cell_type": "code",
   "execution_count": 65,
   "metadata": {},
   "outputs": [
    {
     "name": "stdout",
     "output_type": "stream",
     "text": [
      "arange(1, 100, 3): tensor([ 1,  4,  ..., 94, 97])\n",
      "range(1, 100, 3) (deprecated in latest PyTorch versions): tensor([  1.,   4.,  ...,  97., 100.])\n",
      "linspace(1, 100, 3): tensor([  1.000,  50.500, 100.000])\n",
      "logspace(1, 10, 3): tensor([   10.000, 316227.766, 10000000000.000])\n"
     ]
    },
    {
     "name": "stderr",
     "output_type": "stream",
     "text": [
      "/var/folders/fq/gncz_bp52yq728fprlh8k3l40000gn/T/ipykernel_24944/1352935485.py:2: UserWarning: torch.range is deprecated and will be removed in a future release because its behavior is inconsistent with Python's range builtin. Instead, use torch.arange, which produces values in [start, end).\n",
      "  print(f\"range(1, 100, 3) (deprecated in latest PyTorch versions): {torch.range(1, 100, 3)}\")\n"
     ]
    }
   ],
   "source": [
    "print(f\"arange(1, 100, 3): {torch.arange(1, 100, 3)}\")\n",
    "print(f\"range(1, 100, 3) (deprecated in latest PyTorch versions): {torch.range(1, 100, 3)}\")\n",
    "print(f\"linspace(1, 100, 3): {torch.linspace(1, 100, 3)}\")\n",
    "print(f\"logspace(1, 10, 3): {torch.logspace(1, 10, 3)}\")"
   ]
  },
  {
   "cell_type": "code",
   "execution_count": 66,
   "metadata": {},
   "outputs": [
    {
     "data": {
      "text/plain": [
       "tensor([[1., 0.,  ..., 0., 0.],\n",
       "        [0., 1.,  ..., 0., 0.],\n",
       "        ...,\n",
       "        [0., 0.,  ..., 1., 0.],\n",
       "        [0., 0.,  ..., 0., 1.]])"
      ]
     },
     "execution_count": 66,
     "metadata": {},
     "output_type": "execute_result"
    }
   ],
   "source": [
    "torch.eye(10)"
   ]
  },
  {
   "cell_type": "code",
   "execution_count": 68,
   "metadata": {},
   "outputs": [
    {
     "data": {
      "text/plain": [
       "tensor([0., 0.,  ..., 0., 0.])"
      ]
     },
     "execution_count": 68,
     "metadata": {},
     "output_type": "execute_result"
    }
   ],
   "source": [
    "torch.empty(10)"
   ]
  },
  {
   "cell_type": "code",
   "execution_count": 69,
   "metadata": {},
   "outputs": [
    {
     "name": "stdout",
     "output_type": "stream",
     "text": [
      "tensor([[0., 0., 0.],\n",
      "        [0., 0., 0.],\n",
      "        [0., 0., 0.]])\n",
      "tensor([[0., 0., 0.],\n",
      "        [0., 0., 0.],\n",
      "        [0., 0., 0.]])\n"
     ]
    }
   ],
   "source": [
    "# Creates a tensor with uninitialized values\n",
    "tensor_empty = torch.empty(3, 3)\n",
    "\n",
    "# Creates a tensor with all values initialized to 0\n",
    "tensor_zeros = torch.zeros(3, 3)\n",
    "\n",
    "full = torch.full_like(tensor_empty)\n",
    "\n",
    "print(tensor_empty)\n",
    "print(tensor_zeros)\n"
   ]
  },
  {
   "cell_type": "code",
   "execution_count": null,
   "metadata": {},
   "outputs": [],
   "source": []
  }
 ],
 "metadata": {
  "kernelspec": {
   "display_name": "tenflow",
   "language": "python",
   "name": "python3"
  },
  "language_info": {
   "codemirror_mode": {
    "name": "ipython",
    "version": 3
   },
   "file_extension": ".py",
   "mimetype": "text/x-python",
   "name": "python",
   "nbconvert_exporter": "python",
   "pygments_lexer": "ipython3",
   "version": "3.9.18"
  }
 },
 "nbformat": 4,
 "nbformat_minor": 2
}
